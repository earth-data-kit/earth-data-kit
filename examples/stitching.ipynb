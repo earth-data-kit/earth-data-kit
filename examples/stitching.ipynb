{
 "cells": [
  {
   "cell_type": "markdown",
   "metadata": {},
   "source": [
    "## Stitching\n",
    "\n",
    "Earth Observation data is usually distributed as small scene files, with different projections, resolutions, etc. across data providers. eg: s3://modis-pds/, s3://sentinel-s2-l1c/ both have different file path layout and are in different projections.\n",
    "\n",
    "Before using this data it's important to combine different scene files together, re-arranging bands and bringing the datasets to consistent resolution and projection.\n",
    "\n",
    "This module aims to make it easy for anyone to download and combine EO scene files into either COGs or Zarr so that they can be visualized or analyzed easily.\n",
    "\n",
    "The main class implemented is `dataset`."
   ]
  },
  {
   "cell_type": "markdown",
   "metadata": {},
   "source": [
    "### Using a grid file\n",
    "1. Grid file is a kml or shapefile which contains a mapping of data provider's grid to world coordinates. \n",
    "\n",
    "2. It contains a `Name` column and a `geometry` which contains a mapping between x and y of satellite grid to bounding boxes. This file can be used to create a set of patterns, which then is used to search for scene files.\n",
    "\n",
    "This is the advised method as using the grid file we can pinpoint exactly which files to download and stitch together"
   ]
  },
  {
   "cell_type": "code",
   "execution_count": 2,
   "metadata": {},
   "outputs": [],
   "source": [
    "# Imports\n",
    "import geopandas as gpd\n",
    "import fiona\n",
    "import re\n",
    "import datetime\n",
    "\n",
    "fiona.drvsupport.supported_drivers[\"kml\"] = \"rw\"\n",
    "fiona.drvsupport.supported_drivers[\"KML\"] = \"rw\""
   ]
  },
  {
   "cell_type": "code",
   "execution_count": 3,
   "metadata": {},
   "outputs": [],
   "source": [
    "# The most important part of stitching is defining the source part to supply as an argument to `dataset` class\n",
    "# An example is provided below"
   ]
  },
  {
   "cell_type": "markdown",
   "metadata": {},
   "source": [
    "#### Figuring out source\n",
    "Source is usually made up of three components and is derived from the full path of a single scene file\n",
    "\n",
    "Eg: Path of single scene file\n",
    "\n",
    "`s3://modis-pds/MCD43A4.006/01/08/2013160/MCD43A4.A2013160.h00v08.006.2016138043045_B07.TIF`\n",
    "\n",
    "According to the documentation at https://docs.opendata.aws/modis-pds/readme.html the file path layout is\n",
    "\n",
    "`/product/horizontal_grid/vertical_grid/date/DATA`\n",
    "\n",
    "So for our example \n",
    "* `horizontal_grid` = 01 - {h}\n",
    "* `vertical_grid` = 08 - {v}\n",
    "* `date` = 2013160 - %Y%j according to python's standard format codes https://docs.python.org/3/library/datetime.html#format-codes\n",
    "* `*_B07.TIF` -> For the file name. _You can use * or ? wildcards to select multiple files_"
   ]
  },
  {
   "cell_type": "code",
   "execution_count": 4,
   "metadata": {},
   "outputs": [],
   "source": [
    "# So the source becomes\n",
    "source = \"s3://modis-pds/MCD43A4.006/{h}/{v}/%Y%j/*_B07.TIF\""
   ]
  },
  {
   "cell_type": "code",
   "execution_count": 5,
   "metadata": {},
   "outputs": [],
   "source": [
    "# Modis Data is at a daily frequency so we create one COG per day\n",
    "destination = \"/Volumes/Data/spacetime-tools/final/modis-pds/%d-%m-%Y-b07.TIF\""
   ]
  },
  {
   "cell_type": "code",
   "execution_count": 6,
   "metadata": {},
   "outputs": [],
   "source": [
    "# As an example we will use Albania's bounding box and get data for the month of January 2017 from s3://modis-pds/MCD43A4.006/\n",
    "bbox = (19.3044861183, 39.624997667, 21.0200403175, 42.6882473822)\n",
    "date_range = (datetime.datetime(2017, 1, 1), datetime.datetime(2017, 1, 31)) # (Start, End) - End date is inclusive"
   ]
  },
  {
   "cell_type": "code",
   "execution_count": 7,
   "metadata": {},
   "outputs": [
    {
     "name": "stdout",
     "output_type": "stream",
     "text": [
      "         Name Description                                           geometry\n",
      "0    h:0 v:10              POLYGON Z ((-179.83326 -19.15932 0.00000, -178...\n",
      "1     h:0 v:7              POLYGON Z ((-179.24909 9.98532 0.00000, -178.4...\n",
      "2     h:0 v:8              POLYGON Z ((-178.19927 -0.00713 0.00000, -177....\n",
      "3     h:0 v:9              POLYGON Z ((-179.99995 -0.00700 0.00000, -179....\n",
      "4    h:1 v:10              POLYGON Z ((-170.13189 -19.99203 0.00000, -169...\n",
      "..        ...         ...                                                ...\n",
      "455   h:9 v:5              POLYGON Z ((-92.27929 29.97022 0.00000, -93.06...\n",
      "456   h:9 v:6              POLYGON Z ((-85.05856 19.97777 0.00000, -85.51...\n",
      "457   h:9 v:7              POLYGON Z ((-81.16972 9.98532 0.00000, -81.386...\n",
      "458   h:9 v:8              POLYGON Z ((-79.94018 -0.00713 0.00000, -79.94...\n",
      "459   h:9 v:9              POLYGON Z ((-81.17328 -9.99958 0.00000, -80.97...\n",
      "\n",
      "[460 rows x 3 columns]\n"
     ]
    }
   ],
   "source": [
    "# Extracting h and v components from the grid. This is required for stitching\n",
    "grid_fp = \"../spacetime_tools/stitching/sample_data/sample_kmls/modis.kml\"\n",
    "\n",
    "# Loading the grid file\n",
    "gdf = gpd.read_file(grid_fp)\n",
    "print (gdf)"
   ]
  },
  {
   "cell_type": "code",
   "execution_count": 8,
   "metadata": {},
   "outputs": [],
   "source": [
    "# To get the h and v components of file path layout we need to define a \n",
    "# lambda function which can extract h and v from the grid dataframe as a dictionary\n",
    "# Example below\n",
    "def fn(df_row):\n",
    "    match = re.search(r\"h:(\\d*) v:(\\d*)\", df_row.Name)\n",
    "    if match and match.groups():\n",
    "        vars = match.groups()\n",
    "        return {\n",
    "            \"h\": f\"{int(vars[0]):02d}\",\n",
    "            \"v\": f\"{int(vars[1]):02d}\",\n",
    "        }"
   ]
  },
  {
   "cell_type": "code",
   "execution_count": null,
   "metadata": {},
   "outputs": [],
   "source": [
    "# Importing the dataset class from spacetime_tools.stitching\n",
    "from spacetime_tools.stitching.classes import dataset"
   ]
  },
  {
   "cell_type": "code",
   "execution_count": null,
   "metadata": {},
   "outputs": [],
   "source": [
    "# AWS REGION\n",
    "region = \"us-west-2\""
   ]
  },
  {
   "cell_type": "code",
   "execution_count": null,
   "metadata": {},
   "outputs": [],
   "source": [
    "# This initializes the dataset object\n",
    "ds = dataset.DataSet(\"modis-pds\", \"s3\", source, overwrite=True)\n",
    "\n",
    "# Setting time bounds\n",
    "ds.set_timebounds(date_range[0], date_range[1])\n",
    "\n",
    "# Setting spatial bounds. We pass the bbox we are interested in,\n",
    "# grid file path and the lambda function to extract h and v from the grid file\n",
    "ds.set_spacebounds(bbox, grid_fp, fn)"
   ]
  },
  {
   "cell_type": "code",
   "execution_count": null,
   "metadata": {},
   "outputs": [],
   "source": [
    "# Getting distinct bands. This will help us decide band arrangement when stitching scenes together\n",
    "bands = ds.get_distinct_bands()\n",
    "print (bands)"
   ]
  },
  {
   "cell_type": "code",
   "execution_count": null,
   "metadata": {},
   "outputs": [],
   "source": [
    "# Downloading scene files\n",
    "ds.sync()"
   ]
  },
  {
   "cell_type": "code",
   "execution_count": null,
   "metadata": {},
   "outputs": [],
   "source": [
    "# Finally stitching them together with the band arrangement as below\n",
    "ds.to_cog(\n",
    "        destination,\n",
    "        bands=[\n",
    "            \"Nadir_Reflectance_Band7\",\n",
    "        ],\n",
    "    )"
   ]
  }
 ],
 "metadata": {
  "kernelspec": {
   "display_name": ".venv",
   "language": "python",
   "name": "python3"
  },
  "language_info": {
   "codemirror_mode": {
    "name": "ipython",
    "version": 3
   },
   "file_extension": ".py",
   "mimetype": "text/x-python",
   "name": "python",
   "nbconvert_exporter": "python",
   "pygments_lexer": "ipython3",
   "version": "3.12.4"
  }
 },
 "nbformat": 4,
 "nbformat_minor": 2
}
