{
 "cells": [
  {
   "cell_type": "markdown",
   "metadata": {},
   "source": [
    "## Stitching\n",
    "\n",
    "Earth Observation data is usually distributed in small scene files, with different projections, resolutions, etc. across data providers. eg: s3://modis-pds/, s3://sentinel-s2-l1c/.\n",
    "\n",
    "Before using this data it's important to combine different scene files together, re-arrange or combine bands or change the projection and resolution of the dataset.\n",
    "\n",
    "This module aims to make it easy for anyone to download and combine EO scene files, re-arrange bands and change projection or resolution.\n",
    "\n",
    "The main class implemented in `dataset`."
   ]
  },
  {
   "cell_type": "markdown",
   "metadata": {},
   "source": [
    "### Using a grid file\n",
    "1.  Grid file is a kml or shapefile which contains a mapping of data provider's grid to world coordinates. \n",
    "\n",
    "2. It contains a `Name` key which contains a mapping of x and y to bounding boxes. This file can be used to create a fixed list of patterns, which then is used to search for scene files.\n",
    "\n",
    "This is the advised method"
   ]
  },
  {
   "cell_type": "code",
   "execution_count": null,
   "metadata": {},
   "outputs": [],
   "source": [
    "# Imports\n",
    "import geopandas as gpd\n",
    "import fiona\n",
    "import re\n",
    "import datetime\n",
    "\n",
    "fiona.drvsupport.supported_drivers[\"kml\"] = \"rw\"\n",
    "fiona.drvsupport.supported_drivers[\"KML\"] = \"rw\""
   ]
  },
  {
   "cell_type": "code",
   "execution_count": null,
   "metadata": {},
   "outputs": [],
   "source": [
    "grid_fp = \"../spacetime_tools/stitching/sample_data/sample_kmls/modis.kml\"\n",
    "\n",
    "gdf = gpd.read_file(grid_fp)"
   ]
  },
  {
   "cell_type": "code",
   "execution_count": null,
   "metadata": {},
   "outputs": [],
   "source": [
    "print (gdf)"
   ]
  },
  {
   "cell_type": "code",
   "execution_count": null,
   "metadata": {},
   "outputs": [],
   "source": [
    "# Before we go ahead we need to define a lambda function which can extract h and v from the GeoDataFrame in a dictionary\n",
    "# Example below\n",
    "def fn(x):\n",
    "    match = re.search(r\"h:(\\d*) v:(\\d*)\", x.Name)\n",
    "    if match and match.groups():\n",
    "        vars = match.groups()\n",
    "        return {\n",
    "            \"x\": f\"{int(vars[0]):02d}\",\n",
    "            \"y\": f\"{int(vars[1]):02d}\",\n",
    "        }"
   ]
  },
  {
   "cell_type": "code",
   "execution_count": null,
   "metadata": {},
   "outputs": [],
   "source": [
    "# If you run the above function for a single tuple it will return a dictionary as below\n",
    "for df_row in gdf.itertuples():\n",
    "    print (fn(df_row))"
   ]
  },
  {
   "cell_type": "code",
   "execution_count": null,
   "metadata": {},
   "outputs": [],
   "source": [
    "# Now we are ready to stich our scenes together\n",
    "# As an example we will use Albania's bounding box and get data for the month of January 2017 from s3://modis-pds/MCD43A4.006/\n",
    "\n",
    "# Modis files are daily so we will get one file per day\n",
    "bbox = (19.3044861183, 39.624997667, 21.0200403175, 42.6882473822)\n",
    "date_range = (datetime.datetime(2017, 1, 1), datetime.datetime(2017, 1, 31)) # End date is inclusive"
   ]
  },
  {
   "cell_type": "code",
   "execution_count": null,
   "metadata": {},
   "outputs": [],
   "source": [
    "# Then we set the source path and initialize our dataset\n",
    "# Source is usually made up of three components and is derived from the full path of a single scene file\n",
    "# Eg: Path of single scene file\n",
    "# s3://modis-pds/MCD43A4.006/01/08/2013160/MCD43A4.A2013160.h00v08.006.2016138043045_B07.TIF\n",
    "# In the above path \n",
    "# 01 corresponds to h in grid file\n",
    "# 08 corresponds to y in grid file\n",
    "# 2013160 can be denoted as %Y%j according to python's standard format codes below\n",
    "# https://docs.python.org/3/library/datetime.html#format-codes\n",
    "# And finally the full file name can be represented as *_B07.TIF telling that we module that we want to download Band 7.\n",
    "\n",
    "# More details below\n",
    "# https://docs.opendata.aws/modis-pds/readme.html\n",
    "\n",
    "\n",
    "# Source variable then becomes\n",
    "source = \"s3://modis-pds/MCD43A4.006/{x}/{y}/%Y%j/*_B0?.TIF\""
   ]
  },
  {
   "cell_type": "code",
   "execution_count": null,
   "metadata": {},
   "outputs": [],
   "source": [
    "# Modis Data is at a daily frequency so we create one COG per day\n",
    "destination = \"/Volumes/Data/spacetime-tools/final/modis-pds/%d-%m-%Y-b07.TIF\""
   ]
  },
  {
   "cell_type": "code",
   "execution_count": null,
   "metadata": {},
   "outputs": [],
   "source": [
    "# Importing the dataset class from spacetime_tools.stitching\n",
    "from spacetime_tools.stitching.classes import dataset"
   ]
  },
  {
   "cell_type": "code",
   "execution_count": null,
   "metadata": {},
   "outputs": [],
   "source": [
    "# AWS REGION\n",
    "region = \"us-west-2\""
   ]
  },
  {
   "cell_type": "code",
   "execution_count": null,
   "metadata": {},
   "outputs": [],
   "source": [
    "# This initializes the dataset object\n",
    "ds = dataset.DataSet(\"modis-pds\", \"s3\", source, overwrite=False)\n",
    "\n",
    "# Setting time bounds\n",
    "ds.set_timebounds(date_range[0], date_range[1])\n",
    "\n",
    "# Setting spatial bounds\n",
    "ds.set_spacebounds(bbox, grid_fp, fn)"
   ]
  },
  {
   "cell_type": "code",
   "execution_count": null,
   "metadata": {},
   "outputs": [],
   "source": [
    "# Getting distinct bands\n",
    "bands = ds.get_distinct_bands()"
   ]
  },
  {
   "cell_type": "code",
   "execution_count": null,
   "metadata": {},
   "outputs": [],
   "source": [
    "# Downloading scene files\n",
    "ds.sync()"
   ]
  },
  {
   "cell_type": "code",
   "execution_count": null,
   "metadata": {},
   "outputs": [],
   "source": [
    "# Finally stitching them together with the band arrangement as below\n",
    "ds.to_cog(\n",
    "        destination,\n",
    "        bands=[\n",
    "            \"Nadir_Reflectance_Band1\",\n",
    "            \"Nadir_Reflectance_Band3\",\n",
    "            \"Nadir_Reflectance_Band7\",\n",
    "        ],\n",
    "    )"
   ]
  }
 ],
 "metadata": {
  "kernelspec": {
   "display_name": ".venv",
   "language": "python",
   "name": "python3"
  },
  "language_info": {
   "codemirror_mode": {
    "name": "ipython",
    "version": 3
   },
   "file_extension": ".py",
   "mimetype": "text/x-python",
   "name": "python",
   "nbconvert_exporter": "python",
   "pygments_lexer": "ipython3",
   "version": "3.12.4"
  }
 },
 "nbformat": 4,
 "nbformat_minor": 2
}
